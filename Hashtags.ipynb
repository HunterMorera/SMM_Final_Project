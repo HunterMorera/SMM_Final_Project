{
 "cells": [
  {
   "cell_type": "markdown",
   "metadata": {},
   "source": [
    "##  For every tweet, extracting all tags in a tweet."
   ]
  },
  {
   "cell_type": "code",
   "execution_count": 1,
   "metadata": {},
   "outputs": [],
   "source": [
    "import pandas as pd\n",
    "import re\n",
    "from re import search\n",
    "\n",
    "\n",
    "\n",
    "raw_tags = []\n",
    "tags = []\n",
    "\n",
    "data = pd.read_json('tweets2.json', lines = True, orient= 'records')\n",
    "df = pd.DataFrame(data)\n",
    "text = df.text\n",
    "\n",
    "for i in text:\n",
    "    raw_tags.append(re.findall(r\"#(\\w+)\", i))\n",
    "list_of_tags = [x for x in raw_tags if x != []]\n",
    "\n"
   ]
  },
  {
   "cell_type": "markdown",
   "metadata": {},
   "source": [
    "## Filtering Vape related and noise from above output."
   ]
  },
  {
   "cell_type": "code",
   "execution_count": 2,
   "metadata": {},
   "outputs": [],
   "source": [
    "\n",
    "\n",
    "sub_string= ['vap', 'Vap', 'VAP', 'Cig', 'cig', 'CIG', 'Flavour', 'flavour', 'pod', 'Pod', 'POD', 'THC', 'Thc','thc', 'cannab', \n",
    "            'Cannab', 'Smoke', 'Smoke', 'marijuana', 'Marijuana', 'Nico', 'nico', '15sec','weed', 'tobacco', 'juice', 'flavor', 'smoiking', 'cbd' ]\n",
    "\n",
    "def list_split(list_of_tags):\n",
    "    \n",
    "    noise_tags = []\n",
    "    result_tags = []\n",
    "\n",
    "    for tag in list_of_tags:\n",
    "        flag = True\n",
    "        for k in tag:\n",
    "            for j in sub_string:\n",
    "                if (flag == False):\n",
    "                    break\n",
    "                \n",
    "                if search(j, k.lower()):\n",
    "                    if tag not in result_tags:\n",
    "                        \n",
    "                        result_tags.append(tag)\n",
    "                        flag = False\n",
    "                        break\n",
    "                \n",
    "        if flag == True:\n",
    "            if tag not in noise_tags and tag not in result_tags:\n",
    "                noise_tags.append(tag)\n",
    "                \n",
    "                \n",
    "            \n",
    "            \n",
    "    return noise_tags, result_tags\n",
    "\n",
    "\n",
    "vape_tags=[]\n",
    "noise = []\n",
    "\n",
    "\n",
    "noise, vape_tags = list_split(list_of_tags)\n"
   ]
  },
  {
   "cell_type": "markdown",
   "metadata": {},
   "source": [
    "## Saving Filtered tags and noise to file."
   ]
  },
  {
   "cell_type": "code",
   "execution_count": 3,
   "metadata": {},
   "outputs": [],
   "source": [
    "with open('lol_filteredTags_Nov23.txt', 'w', encoding=\"utf-8\") as f: # Saving as list of list of tags\n",
    "    for item in vape_tags:\n",
    "        f.write(\"%s\\n\" % item)\n",
    "        \n",
    "        \n",
    "with open('filteredTags_list_Nov23.txt', 'w', encoding=\"utf-8\") as f: # Saving as a single list of all tweets.\n",
    "    for item in vape_tags:\n",
    "        for subitem in item:\n",
    "            f.write(\"%s\\n\" % subitem)\n",
    "            \n",
    "            \n",
    "with open('lol_noise.txt', 'w', encoding=\"utf-8\") as f: # Saving as list of list of tags in noise\n",
    "    for item in noise:\n",
    "        f.write(\"%s\\n\" % item)\n",
    "        \n",
    "        \n",
    "with open('noise.txt', 'w', encoding=\"utf-8\") as f: # # Saving as list  of tags in noise\n",
    "    for item in noise:\n",
    "        for subitem in item:\n",
    "            f.write(\"%s\\n\" % subitem)"
   ]
  },
  {
   "cell_type": "markdown",
   "metadata": {},
   "source": [
    "## References"
   ]
  },
  {
   "cell_type": "markdown",
   "metadata": {},
   "source": [
    "https://stackoverflow.com/questions/2527892/parsing-a-tweet-to-extract-hashtags-into-an-array"
   ]
  },
  {
   "cell_type": "code",
   "execution_count": null,
   "metadata": {},
   "outputs": [],
   "source": []
  }
 ],
 "metadata": {
  "kernelspec": {
   "display_name": "Python 3",
   "language": "python",
   "name": "python3"
  },
  "language_info": {
   "codemirror_mode": {
    "name": "ipython",
    "version": 3
   },
   "file_extension": ".py",
   "mimetype": "text/x-python",
   "name": "python",
   "nbconvert_exporter": "python",
   "pygments_lexer": "ipython3",
   "version": "3.6.5"
  }
 },
 "nbformat": 4,
 "nbformat_minor": 2
}
